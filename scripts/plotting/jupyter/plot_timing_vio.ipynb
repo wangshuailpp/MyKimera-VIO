{
 "cells": [
  {
   "cell_type": "code",
   "execution_count": 1,
   "metadata": {},
   "outputs": [],
   "source": [
    "import yaml\n",
    "import os\n",
    "import logging\n",
    "import plotly\n",
    "import plotly.express as px\n",
    "import plotly.graph_objects as go\n",
    "import pandas as pd\n",
    "log = logging.getLogger(__name__)\n",
    "log.setLevel(logging.INFO)\n",
    "if not log.handlers:\n",
    "    ch = logging.StreamHandler()\n",
    "    ch.setLevel(logging.INFO)\n",
    "    ch.setFormatter(logging.Formatter('%(levelname)s - %(message)s'))\n",
    "    log.addHandler(ch)"
   ]
  },
  {
   "cell_type": "code",
   "execution_count": 2,
   "metadata": {},
   "outputs": [],
   "source": [
    "import pandas as pd\n",
    "outfilename = 'output.csv'\n",
    "df = pd.read_csv('../../StatisticsVIO.csv', header=None, index_col=False).T\n",
    "df.columns = df.iloc[0]\n",
    "df = df.reindex(df.index.drop(0))"
   ]
  },
  {
   "cell_type": "code",
   "execution_count": 3,
   "metadata": {},
   "outputs": [],
   "source": [
    "import plotly.graph_objects as go\n",
    "import numpy as np\n",
    "\n",
    "# Rename cols\n",
    "df.rename(columns={\"IMU Preintegration Timing [us]\": \"IMU Preint. [us]\",\n",
    "                   \"StereoFrontEnd Timing [ms]\": \"Frontend [ms]\",\n",
    "                   \"Pipeline Overall Timing [ms]\": \"Total [ms]\",\n",
    "                   \"Visualizer Timing [ms]\": \"Visualizer [ms]\",\n",
    "                   \"Mesher Timing [ms]\": \"Mesher [ms]\",\n",
    "                   \"Backend Timing [ms]\": \"Backend [ms]\"}, inplace=True)\n",
    "\n",
    "# Reorder cols as convenient, and drop Visualizer timing:\n",
    "df = df[['IMU Preint. [us]', 'Frontend [ms]', 'Mesher [ms]', 'Backend [ms]', 'Total [ms]']]\n",
    "\n",
    "x_data = list(df.columns.values)\n",
    "y_data =[]\n",
    "for column in df:\n",
    "    y_data.append(df[column].values.astype(np.float))"
   ]
  },
  {
   "cell_type": "code",
   "execution_count": 49,
   "metadata": {},
   "outputs": [
    {
     "data": {
      "application/vnd.plotly.v1+json": {
       "config": {
        "plotlyServerURL": "https://plot.ly"
       },
       "data": [
        {
         "boxmean": true,
         "boxpoints": "all",
         "jitter": 0.5,
         "line": {
          "width": 1
         },
         "marker": {
          "size": 3
         },
         "name": "IMU Preint. [us]",
         "pointpos": 0,
         "showlegend": false,
         "type": "box",
         "whiskerwidth": 0.8,
         "y": [
          26,
          40,
          42,
          39,
          27,
          48,
          371,
          51,
          39,
          85,
          45,
          29,
          29,
          35,
          86,
          30,
          42,
          51,
          47,
          31,
          38,
          27,
          29,
          26,
          65,
          39,
          42,
          41,
          26,
          39,
          40,
          40,
          28,
          42,
          36,
          26,
          67,
          36,
          38,
          37,
          26,
          32,
          35,
          37,
          27,
          26,
          37,
          35,
          24,
          41,
          47,
          39,
          52,
          43,
          44,
          27,
          54,
          39,
          44,
          36,
          23,
          41,
          40,
          39,
          43,
          39,
          45,
          30,
          39,
          32,
          43,
          28,
          22,
          42,
          44,
          42,
          24,
          50,
          45,
          41,
          24,
          38,
          55,
          42,
          26,
          39,
          44,
          48,
          27,
          40,
          37,
          35,
          26,
          1050,
          85,
          36,
          40,
          41,
          32,
          24
         ]
        },
        {
         "boxmean": true,
         "boxpoints": "all",
         "jitter": 0.5,
         "line": {
          "width": 1
         },
         "marker": {
          "size": 3
         },
         "name": "Frontend [ms]",
         "pointpos": 0,
         "showlegend": false,
         "type": "box",
         "whiskerwidth": 0.8,
         "y": [
          6,
          9,
          8,
          49,
          5,
          7,
          13,
          52,
          6,
          17,
          6,
          49,
          6,
          7,
          5,
          44,
          5,
          13,
          7,
          65,
          7,
          5,
          4,
          48,
          7,
          10,
          9,
          51,
          6,
          6,
          6,
          61,
          5,
          10,
          6,
          52,
          7,
          6,
          6,
          54,
          5,
          6,
          4,
          55,
          7,
          6,
          4,
          46,
          7,
          15,
          6,
          48,
          5,
          12,
          5,
          54,
          8,
          8,
          8,
          47,
          6,
          15,
          5,
          52,
          8,
          13,
          5,
          49,
          8,
          12,
          6,
          47,
          8,
          13,
          8,
          51,
          5,
          9,
          8,
          48,
          7,
          12,
          6,
          46,
          4,
          8,
          10,
          61,
          7,
          15,
          5,
          51,
          8,
          15,
          5,
          52,
          6,
          5,
          4,
          52
         ]
        },
        {
         "boxmean": true,
         "boxpoints": "all",
         "jitter": 0.5,
         "line": {
          "width": 1
         },
         "marker": {
          "size": 3
         },
         "name": "Mesher [ms]",
         "pointpos": 0,
         "showlegend": false,
         "type": "box",
         "whiskerwidth": 0.8,
         "y": [
          8,
          10,
          12,
          9,
          11,
          14,
          8,
          9,
          8,
          8,
          8,
          8,
          8,
          8,
          9,
          8,
          8,
          10,
          9,
          9,
          8,
          9,
          9,
          9,
          10,
          10,
          9,
          8,
          10,
          14,
          10,
          10,
          10,
          7,
          9,
          11,
          8,
          7,
          11,
          9,
          9,
          10,
          10,
          8,
          8,
          9,
          11,
          9,
          9,
          11,
          9,
          7,
          8,
          10,
          10,
          10,
          8,
          9,
          10,
          8,
          8,
          9,
          7,
          8,
          9,
          8,
          9,
          9,
          7,
          8,
          10,
          9,
          9,
          10,
          9,
          10,
          8,
          8,
          11,
          10,
          10,
          11,
          9,
          12,
          9,
          10,
          10,
          1,
          10,
          10,
          9,
          10,
          10,
          10,
          15,
          11,
          14,
          11,
          10,
          11
         ]
        },
        {
         "boxmean": true,
         "boxpoints": "all",
         "jitter": 0.5,
         "line": {
          "width": 1
         },
         "marker": {
          "size": 3
         },
         "name": "Backend [ms]",
         "pointpos": 0,
         "showlegend": false,
         "type": "box",
         "whiskerwidth": 0.8,
         "y": [
          22,
          23,
          18,
          25,
          18,
          24,
          13,
          22,
          19,
          15,
          11,
          14,
          15,
          10,
          17,
          20,
          18,
          11,
          21,
          21,
          21,
          23,
          29,
          26,
          19,
          14,
          17,
          23,
          19,
          14,
          13,
          25,
          13,
          27,
          22,
          13,
          13,
          20,
          23,
          13,
          18,
          12,
          14,
          24,
          22,
          27,
          22,
          23,
          21,
          27,
          24,
          21,
          28,
          30,
          28,
          51,
          34,
          29,
          30,
          33,
          34,
          36,
          33,
          34,
          36,
          38,
          35,
          40,
          37,
          35,
          38,
          38,
          40,
          22,
          37,
          39,
          35,
          35,
          39,
          21,
          36,
          23,
          32,
          26,
          22,
          23,
          19,
          18,
          20,
          19,
          28,
          20,
          16,
          33,
          30,
          36,
          29,
          17,
          23,
          14
         ]
        },
        {
         "boxmean": true,
         "boxpoints": "all",
         "jitter": 0.5,
         "line": {
          "width": 1
         },
         "marker": {
          "size": 3
         },
         "name": "Total [ms]",
         "pointpos": 0,
         "showlegend": false,
         "type": "box",
         "whiskerwidth": 0.8,
         "y": [
          82,
          67,
          70,
          73,
          66,
          95,
          60,
          70,
          75,
          57,
          71,
          64,
          71,
          80,
          80,
          91,
          87,
          72,
          80,
          84,
          67,
          69,
          74,
          79,
          73,
          85,
          76,
          85,
          93,
          93,
          71,
          96,
          89,
          97,
          84,
          86,
          75,
          73,
          75,
          81,
          83,
          87,
          83,
          86,
          86,
          87,
          94,
          106,
          94,
          110,
          101,
          70,
          76,
          81,
          91,
          124,
          77,
          76,
          81,
          84,
          83,
          82,
          74,
          79,
          75,
          81,
          74,
          78,
          78,
          71,
          75,
          87,
          83,
          64,
          83,
          76,
          75,
          81,
          74,
          74,
          80,
          66,
          91,
          68,
          71,
          74,
          61,
          55,
          67,
          57,
          64,
          57,
          69,
          83,
          68,
          115,
          106,
          90,
          87,
          77
         ]
        }
       ],
       "layout": {
        "margin": {
         "b": 80,
         "l": 40,
         "r": 30,
         "t": 100
        },
        "paper_bgcolor": "rgb(243, 243, 243)",
        "plot_bgcolor": "rgb(243, 243, 243)",
        "showlegend": false,
        "template": {
         "data": {
          "bar": [
           {
            "error_x": {
             "color": "#2a3f5f"
            },
            "error_y": {
             "color": "#2a3f5f"
            },
            "marker": {
             "line": {
              "color": "white",
              "width": 0.5
             }
            },
            "type": "bar"
           }
          ],
          "barpolar": [
           {
            "marker": {
             "line": {
              "color": "white",
              "width": 0.5
             }
            },
            "type": "barpolar"
           }
          ],
          "carpet": [
           {
            "aaxis": {
             "endlinecolor": "#2a3f5f",
             "gridcolor": "#C8D4E3",
             "linecolor": "#C8D4E3",
             "minorgridcolor": "#C8D4E3",
             "startlinecolor": "#2a3f5f"
            },
            "baxis": {
             "endlinecolor": "#2a3f5f",
             "gridcolor": "#C8D4E3",
             "linecolor": "#C8D4E3",
             "minorgridcolor": "#C8D4E3",
             "startlinecolor": "#2a3f5f"
            },
            "type": "carpet"
           }
          ],
          "choropleth": [
           {
            "colorbar": {
             "outlinewidth": 0,
             "ticks": ""
            },
            "type": "choropleth"
           }
          ],
          "contour": [
           {
            "colorbar": {
             "outlinewidth": 0,
             "ticks": ""
            },
            "colorscale": [
             [
              0,
              "#0d0887"
             ],
             [
              0.1111111111111111,
              "#46039f"
             ],
             [
              0.2222222222222222,
              "#7201a8"
             ],
             [
              0.3333333333333333,
              "#9c179e"
             ],
             [
              0.4444444444444444,
              "#bd3786"
             ],
             [
              0.5555555555555556,
              "#d8576b"
             ],
             [
              0.6666666666666666,
              "#ed7953"
             ],
             [
              0.7777777777777778,
              "#fb9f3a"
             ],
             [
              0.8888888888888888,
              "#fdca26"
             ],
             [
              1,
              "#f0f921"
             ]
            ],
            "type": "contour"
           }
          ],
          "contourcarpet": [
           {
            "colorbar": {
             "outlinewidth": 0,
             "ticks": ""
            },
            "type": "contourcarpet"
           }
          ],
          "heatmap": [
           {
            "colorbar": {
             "outlinewidth": 0,
             "ticks": ""
            },
            "colorscale": [
             [
              0,
              "#0d0887"
             ],
             [
              0.1111111111111111,
              "#46039f"
             ],
             [
              0.2222222222222222,
              "#7201a8"
             ],
             [
              0.3333333333333333,
              "#9c179e"
             ],
             [
              0.4444444444444444,
              "#bd3786"
             ],
             [
              0.5555555555555556,
              "#d8576b"
             ],
             [
              0.6666666666666666,
              "#ed7953"
             ],
             [
              0.7777777777777778,
              "#fb9f3a"
             ],
             [
              0.8888888888888888,
              "#fdca26"
             ],
             [
              1,
              "#f0f921"
             ]
            ],
            "type": "heatmap"
           }
          ],
          "heatmapgl": [
           {
            "colorbar": {
             "outlinewidth": 0,
             "ticks": ""
            },
            "colorscale": [
             [
              0,
              "#0d0887"
             ],
             [
              0.1111111111111111,
              "#46039f"
             ],
             [
              0.2222222222222222,
              "#7201a8"
             ],
             [
              0.3333333333333333,
              "#9c179e"
             ],
             [
              0.4444444444444444,
              "#bd3786"
             ],
             [
              0.5555555555555556,
              "#d8576b"
             ],
             [
              0.6666666666666666,
              "#ed7953"
             ],
             [
              0.7777777777777778,
              "#fb9f3a"
             ],
             [
              0.8888888888888888,
              "#fdca26"
             ],
             [
              1,
              "#f0f921"
             ]
            ],
            "type": "heatmapgl"
           }
          ],
          "histogram": [
           {
            "marker": {
             "colorbar": {
              "outlinewidth": 0,
              "ticks": ""
             }
            },
            "type": "histogram"
           }
          ],
          "histogram2d": [
           {
            "colorbar": {
             "outlinewidth": 0,
             "ticks": ""
            },
            "colorscale": [
             [
              0,
              "#0d0887"
             ],
             [
              0.1111111111111111,
              "#46039f"
             ],
             [
              0.2222222222222222,
              "#7201a8"
             ],
             [
              0.3333333333333333,
              "#9c179e"
             ],
             [
              0.4444444444444444,
              "#bd3786"
             ],
             [
              0.5555555555555556,
              "#d8576b"
             ],
             [
              0.6666666666666666,
              "#ed7953"
             ],
             [
              0.7777777777777778,
              "#fb9f3a"
             ],
             [
              0.8888888888888888,
              "#fdca26"
             ],
             [
              1,
              "#f0f921"
             ]
            ],
            "type": "histogram2d"
           }
          ],
          "histogram2dcontour": [
           {
            "colorbar": {
             "outlinewidth": 0,
             "ticks": ""
            },
            "colorscale": [
             [
              0,
              "#0d0887"
             ],
             [
              0.1111111111111111,
              "#46039f"
             ],
             [
              0.2222222222222222,
              "#7201a8"
             ],
             [
              0.3333333333333333,
              "#9c179e"
             ],
             [
              0.4444444444444444,
              "#bd3786"
             ],
             [
              0.5555555555555556,
              "#d8576b"
             ],
             [
              0.6666666666666666,
              "#ed7953"
             ],
             [
              0.7777777777777778,
              "#fb9f3a"
             ],
             [
              0.8888888888888888,
              "#fdca26"
             ],
             [
              1,
              "#f0f921"
             ]
            ],
            "type": "histogram2dcontour"
           }
          ],
          "mesh3d": [
           {
            "colorbar": {
             "outlinewidth": 0,
             "ticks": ""
            },
            "type": "mesh3d"
           }
          ],
          "parcoords": [
           {
            "line": {
             "colorbar": {
              "outlinewidth": 0,
              "ticks": ""
             }
            },
            "type": "parcoords"
           }
          ],
          "scatter": [
           {
            "marker": {
             "colorbar": {
              "outlinewidth": 0,
              "ticks": ""
             }
            },
            "type": "scatter"
           }
          ],
          "scatter3d": [
           {
            "line": {
             "colorbar": {
              "outlinewidth": 0,
              "ticks": ""
             }
            },
            "marker": {
             "colorbar": {
              "outlinewidth": 0,
              "ticks": ""
             }
            },
            "type": "scatter3d"
           }
          ],
          "scattercarpet": [
           {
            "marker": {
             "colorbar": {
              "outlinewidth": 0,
              "ticks": ""
             }
            },
            "type": "scattercarpet"
           }
          ],
          "scattergeo": [
           {
            "marker": {
             "colorbar": {
              "outlinewidth": 0,
              "ticks": ""
             }
            },
            "type": "scattergeo"
           }
          ],
          "scattergl": [
           {
            "marker": {
             "colorbar": {
              "outlinewidth": 0,
              "ticks": ""
             }
            },
            "type": "scattergl"
           }
          ],
          "scattermapbox": [
           {
            "marker": {
             "colorbar": {
              "outlinewidth": 0,
              "ticks": ""
             }
            },
            "type": "scattermapbox"
           }
          ],
          "scatterpolar": [
           {
            "marker": {
             "colorbar": {
              "outlinewidth": 0,
              "ticks": ""
             }
            },
            "type": "scatterpolar"
           }
          ],
          "scatterpolargl": [
           {
            "marker": {
             "colorbar": {
              "outlinewidth": 0,
              "ticks": ""
             }
            },
            "type": "scatterpolargl"
           }
          ],
          "scatterternary": [
           {
            "marker": {
             "colorbar": {
              "outlinewidth": 0,
              "ticks": ""
             }
            },
            "type": "scatterternary"
           }
          ],
          "surface": [
           {
            "colorbar": {
             "outlinewidth": 0,
             "ticks": ""
            },
            "colorscale": [
             [
              0,
              "#0d0887"
             ],
             [
              0.1111111111111111,
              "#46039f"
             ],
             [
              0.2222222222222222,
              "#7201a8"
             ],
             [
              0.3333333333333333,
              "#9c179e"
             ],
             [
              0.4444444444444444,
              "#bd3786"
             ],
             [
              0.5555555555555556,
              "#d8576b"
             ],
             [
              0.6666666666666666,
              "#ed7953"
             ],
             [
              0.7777777777777778,
              "#fb9f3a"
             ],
             [
              0.8888888888888888,
              "#fdca26"
             ],
             [
              1,
              "#f0f921"
             ]
            ],
            "type": "surface"
           }
          ],
          "table": [
           {
            "cells": {
             "fill": {
              "color": "#EBF0F8"
             },
             "line": {
              "color": "white"
             }
            },
            "header": {
             "fill": {
              "color": "#C8D4E3"
             },
             "line": {
              "color": "white"
             }
            },
            "type": "table"
           }
          ]
         },
         "layout": {
          "annotationdefaults": {
           "arrowcolor": "#2a3f5f",
           "arrowhead": 0,
           "arrowwidth": 1
          },
          "colorscale": {
           "diverging": [
            [
             0,
             "#8e0152"
            ],
            [
             0.1,
             "#c51b7d"
            ],
            [
             0.2,
             "#de77ae"
            ],
            [
             0.3,
             "#f1b6da"
            ],
            [
             0.4,
             "#fde0ef"
            ],
            [
             0.5,
             "#f7f7f7"
            ],
            [
             0.6,
             "#e6f5d0"
            ],
            [
             0.7,
             "#b8e186"
            ],
            [
             0.8,
             "#7fbc41"
            ],
            [
             0.9,
             "#4d9221"
            ],
            [
             1,
             "#276419"
            ]
           ],
           "sequential": [
            [
             0,
             "#0d0887"
            ],
            [
             0.1111111111111111,
             "#46039f"
            ],
            [
             0.2222222222222222,
             "#7201a8"
            ],
            [
             0.3333333333333333,
             "#9c179e"
            ],
            [
             0.4444444444444444,
             "#bd3786"
            ],
            [
             0.5555555555555556,
             "#d8576b"
            ],
            [
             0.6666666666666666,
             "#ed7953"
            ],
            [
             0.7777777777777778,
             "#fb9f3a"
            ],
            [
             0.8888888888888888,
             "#fdca26"
            ],
            [
             1,
             "#f0f921"
            ]
           ],
           "sequentialminus": [
            [
             0,
             "#0d0887"
            ],
            [
             0.1111111111111111,
             "#46039f"
            ],
            [
             0.2222222222222222,
             "#7201a8"
            ],
            [
             0.3333333333333333,
             "#9c179e"
            ],
            [
             0.4444444444444444,
             "#bd3786"
            ],
            [
             0.5555555555555556,
             "#d8576b"
            ],
            [
             0.6666666666666666,
             "#ed7953"
            ],
            [
             0.7777777777777778,
             "#fb9f3a"
            ],
            [
             0.8888888888888888,
             "#fdca26"
            ],
            [
             1,
             "#f0f921"
            ]
           ]
          },
          "colorway": [
           "#636efa",
           "#EF553B",
           "#00cc96",
           "#ab63fa",
           "#FFA15A",
           "#19d3f3",
           "#FF6692",
           "#B6E880",
           "#FF97FF",
           "#FECB52"
          ],
          "font": {
           "color": "#2a3f5f"
          },
          "geo": {
           "bgcolor": "white",
           "lakecolor": "white",
           "landcolor": "white",
           "showlakes": true,
           "showland": true,
           "subunitcolor": "#C8D4E3"
          },
          "hoverlabel": {
           "align": "left"
          },
          "hovermode": "closest",
          "mapbox": {
           "style": "light"
          },
          "paper_bgcolor": "white",
          "plot_bgcolor": "white",
          "polar": {
           "angularaxis": {
            "gridcolor": "#EBF0F8",
            "linecolor": "#EBF0F8",
            "ticks": ""
           },
           "bgcolor": "white",
           "radialaxis": {
            "gridcolor": "#EBF0F8",
            "linecolor": "#EBF0F8",
            "ticks": ""
           }
          },
          "scene": {
           "xaxis": {
            "backgroundcolor": "white",
            "gridcolor": "#DFE8F3",
            "gridwidth": 2,
            "linecolor": "#EBF0F8",
            "showbackground": true,
            "ticks": "",
            "zerolinecolor": "#EBF0F8"
           },
           "yaxis": {
            "backgroundcolor": "white",
            "gridcolor": "#DFE8F3",
            "gridwidth": 2,
            "linecolor": "#EBF0F8",
            "showbackground": true,
            "ticks": "",
            "zerolinecolor": "#EBF0F8"
           },
           "zaxis": {
            "backgroundcolor": "white",
            "gridcolor": "#DFE8F3",
            "gridwidth": 2,
            "linecolor": "#EBF0F8",
            "showbackground": true,
            "ticks": "",
            "zerolinecolor": "#EBF0F8"
           }
          },
          "shapedefaults": {
           "line": {
            "color": "#2a3f5f"
           }
          },
          "ternary": {
           "aaxis": {
            "gridcolor": "#DFE8F3",
            "linecolor": "#A2B1C6",
            "ticks": ""
           },
           "baxis": {
            "gridcolor": "#DFE8F3",
            "linecolor": "#A2B1C6",
            "ticks": ""
           },
           "bgcolor": "white",
           "caxis": {
            "gridcolor": "#DFE8F3",
            "linecolor": "#A2B1C6",
            "ticks": ""
           }
          },
          "title": {
           "x": 0.05
          },
          "xaxis": {
           "automargin": true,
           "gridcolor": "#EBF0F8",
           "linecolor": "#EBF0F8",
           "ticks": "",
           "zerolinecolor": "#EBF0F8",
           "zerolinewidth": 2
          },
          "yaxis": {
           "automargin": true,
           "gridcolor": "#EBF0F8",
           "linecolor": "#EBF0F8",
           "ticks": "",
           "zerolinecolor": "#EBF0F8",
           "zerolinewidth": 2
          }
         }
        },
        "title": {
         "text": "Per Module Timing"
        },
        "xaxis": {
         "dtick": 0.1,
         "title": {
          "text": "Modules"
         }
        },
        "yaxis": {
         "range": [
          0,
          140
         ],
         "rangemode": "tozero",
         "title": {
          "text": "Time"
         }
        }
       }
      },
      "text/html": [
       "<div>\n",
       "        \n",
       "        \n",
       "            <div id=\"4d1b3733-47f5-472a-92b8-8b035b238e49\" class=\"plotly-graph-div\" style=\"height:525px; width:100%;\"></div>\n",
       "            <script type=\"text/javascript\">\n",
       "                require([\"plotly\"], function(Plotly) {\n",
       "                    window.PLOTLYENV=window.PLOTLYENV || {};\n",
       "                    \n",
       "                if (document.getElementById(\"4d1b3733-47f5-472a-92b8-8b035b238e49\")) {\n",
       "                    Plotly.newPlot(\n",
       "                        '4d1b3733-47f5-472a-92b8-8b035b238e49',\n",
       "                        [{\"boxmean\": true, \"boxpoints\": \"all\", \"jitter\": 0.5, \"line\": {\"width\": 1}, \"marker\": {\"size\": 3}, \"name\": \"IMU Preint. [us]\", \"pointpos\": 0, \"showlegend\": false, \"type\": \"box\", \"whiskerwidth\": 0.8, \"y\": [26.0, 40.0, 42.0, 39.0, 27.0, 48.0, 371.0, 51.0, 39.0, 85.0, 45.0, 29.0, 29.0, 35.0, 86.0, 30.0, 42.0, 51.0, 47.0, 31.0, 38.0, 27.0, 29.0, 26.0, 65.0, 39.0, 42.0, 41.0, 26.0, 39.0, 40.0, 40.0, 28.0, 42.0, 36.0, 26.0, 67.0, 36.0, 38.0, 37.0, 26.0, 32.0, 35.0, 37.0, 27.0, 26.0, 37.0, 35.0, 24.0, 41.0, 47.0, 39.0, 52.0, 43.0, 44.0, 27.0, 54.0, 39.0, 44.0, 36.0, 23.0, 41.0, 40.0, 39.0, 43.0, 39.0, 45.0, 30.0, 39.0, 32.0, 43.0, 28.0, 22.0, 42.0, 44.0, 42.0, 24.0, 50.0, 45.0, 41.0, 24.0, 38.0, 55.0, 42.0, 26.0, 39.0, 44.0, 48.0, 27.0, 40.0, 37.0, 35.0, 26.0, 1050.0, 85.0, 36.0, 40.0, 41.0, 32.0, 24.0]}, {\"boxmean\": true, \"boxpoints\": \"all\", \"jitter\": 0.5, \"line\": {\"width\": 1}, \"marker\": {\"size\": 3}, \"name\": \"Frontend [ms]\", \"pointpos\": 0, \"showlegend\": false, \"type\": \"box\", \"whiskerwidth\": 0.8, \"y\": [6.0, 9.0, 8.0, 49.0, 5.0, 7.0, 13.0, 52.0, 6.0, 17.0, 6.0, 49.0, 6.0, 7.0, 5.0, 44.0, 5.0, 13.0, 7.0, 65.0, 7.0, 5.0, 4.0, 48.0, 7.0, 10.0, 9.0, 51.0, 6.0, 6.0, 6.0, 61.0, 5.0, 10.0, 6.0, 52.0, 7.0, 6.0, 6.0, 54.0, 5.0, 6.0, 4.0, 55.0, 7.0, 6.0, 4.0, 46.0, 7.0, 15.0, 6.0, 48.0, 5.0, 12.0, 5.0, 54.0, 8.0, 8.0, 8.0, 47.0, 6.0, 15.0, 5.0, 52.0, 8.0, 13.0, 5.0, 49.0, 8.0, 12.0, 6.0, 47.0, 8.0, 13.0, 8.0, 51.0, 5.0, 9.0, 8.0, 48.0, 7.0, 12.0, 6.0, 46.0, 4.0, 8.0, 10.0, 61.0, 7.0, 15.0, 5.0, 51.0, 8.0, 15.0, 5.0, 52.0, 6.0, 5.0, 4.0, 52.0]}, {\"boxmean\": true, \"boxpoints\": \"all\", \"jitter\": 0.5, \"line\": {\"width\": 1}, \"marker\": {\"size\": 3}, \"name\": \"Mesher [ms]\", \"pointpos\": 0, \"showlegend\": false, \"type\": \"box\", \"whiskerwidth\": 0.8, \"y\": [8.0, 10.0, 12.0, 9.0, 11.0, 14.0, 8.0, 9.0, 8.0, 8.0, 8.0, 8.0, 8.0, 8.0, 9.0, 8.0, 8.0, 10.0, 9.0, 9.0, 8.0, 9.0, 9.0, 9.0, 10.0, 10.0, 9.0, 8.0, 10.0, 14.0, 10.0, 10.0, 10.0, 7.0, 9.0, 11.0, 8.0, 7.0, 11.0, 9.0, 9.0, 10.0, 10.0, 8.0, 8.0, 9.0, 11.0, 9.0, 9.0, 11.0, 9.0, 7.0, 8.0, 10.0, 10.0, 10.0, 8.0, 9.0, 10.0, 8.0, 8.0, 9.0, 7.0, 8.0, 9.0, 8.0, 9.0, 9.0, 7.0, 8.0, 10.0, 9.0, 9.0, 10.0, 9.0, 10.0, 8.0, 8.0, 11.0, 10.0, 10.0, 11.0, 9.0, 12.0, 9.0, 10.0, 10.0, 1.0, 10.0, 10.0, 9.0, 10.0, 10.0, 10.0, 15.0, 11.0, 14.0, 11.0, 10.0, 11.0]}, {\"boxmean\": true, \"boxpoints\": \"all\", \"jitter\": 0.5, \"line\": {\"width\": 1}, \"marker\": {\"size\": 3}, \"name\": \"Backend [ms]\", \"pointpos\": 0, \"showlegend\": false, \"type\": \"box\", \"whiskerwidth\": 0.8, \"y\": [22.0, 23.0, 18.0, 25.0, 18.0, 24.0, 13.0, 22.0, 19.0, 15.0, 11.0, 14.0, 15.0, 10.0, 17.0, 20.0, 18.0, 11.0, 21.0, 21.0, 21.0, 23.0, 29.0, 26.0, 19.0, 14.0, 17.0, 23.0, 19.0, 14.0, 13.0, 25.0, 13.0, 27.0, 22.0, 13.0, 13.0, 20.0, 23.0, 13.0, 18.0, 12.0, 14.0, 24.0, 22.0, 27.0, 22.0, 23.0, 21.0, 27.0, 24.0, 21.0, 28.0, 30.0, 28.0, 51.0, 34.0, 29.0, 30.0, 33.0, 34.0, 36.0, 33.0, 34.0, 36.0, 38.0, 35.0, 40.0, 37.0, 35.0, 38.0, 38.0, 40.0, 22.0, 37.0, 39.0, 35.0, 35.0, 39.0, 21.0, 36.0, 23.0, 32.0, 26.0, 22.0, 23.0, 19.0, 18.0, 20.0, 19.0, 28.0, 20.0, 16.0, 33.0, 30.0, 36.0, 29.0, 17.0, 23.0, 14.0]}, {\"boxmean\": true, \"boxpoints\": \"all\", \"jitter\": 0.5, \"line\": {\"width\": 1}, \"marker\": {\"size\": 3}, \"name\": \"Total [ms]\", \"pointpos\": 0, \"showlegend\": false, \"type\": \"box\", \"whiskerwidth\": 0.8, \"y\": [82.0, 67.0, 70.0, 73.0, 66.0, 95.0, 60.0, 70.0, 75.0, 57.0, 71.0, 64.0, 71.0, 80.0, 80.0, 91.0, 87.0, 72.0, 80.0, 84.0, 67.0, 69.0, 74.0, 79.0, 73.0, 85.0, 76.0, 85.0, 93.0, 93.0, 71.0, 96.0, 89.0, 97.0, 84.0, 86.0, 75.0, 73.0, 75.0, 81.0, 83.0, 87.0, 83.0, 86.0, 86.0, 87.0, 94.0, 106.0, 94.0, 110.0, 101.0, 70.0, 76.0, 81.0, 91.0, 124.0, 77.0, 76.0, 81.0, 84.0, 83.0, 82.0, 74.0, 79.0, 75.0, 81.0, 74.0, 78.0, 78.0, 71.0, 75.0, 87.0, 83.0, 64.0, 83.0, 76.0, 75.0, 81.0, 74.0, 74.0, 80.0, 66.0, 91.0, 68.0, 71.0, 74.0, 61.0, 55.0, 67.0, 57.0, 64.0, 57.0, 69.0, 83.0, 68.0, 115.0, 106.0, 90.0, 87.0, 77.0]}],\n",
       "                        {\"margin\": {\"b\": 80, \"l\": 40, \"r\": 30, \"t\": 100}, \"paper_bgcolor\": \"rgb(243, 243, 243)\", \"plot_bgcolor\": \"rgb(243, 243, 243)\", \"showlegend\": false, \"template\": {\"data\": {\"bar\": [{\"error_x\": {\"color\": \"#2a3f5f\"}, \"error_y\": {\"color\": \"#2a3f5f\"}, \"marker\": {\"line\": {\"color\": \"white\", \"width\": 0.5}}, \"type\": \"bar\"}], \"barpolar\": [{\"marker\": {\"line\": {\"color\": \"white\", \"width\": 0.5}}, \"type\": \"barpolar\"}], \"carpet\": [{\"aaxis\": {\"endlinecolor\": \"#2a3f5f\", \"gridcolor\": \"#C8D4E3\", \"linecolor\": \"#C8D4E3\", \"minorgridcolor\": \"#C8D4E3\", \"startlinecolor\": \"#2a3f5f\"}, \"baxis\": {\"endlinecolor\": \"#2a3f5f\", \"gridcolor\": \"#C8D4E3\", \"linecolor\": \"#C8D4E3\", \"minorgridcolor\": \"#C8D4E3\", \"startlinecolor\": \"#2a3f5f\"}, \"type\": \"carpet\"}], \"choropleth\": [{\"colorbar\": {\"outlinewidth\": 0, \"ticks\": \"\"}, \"type\": \"choropleth\"}], \"contour\": [{\"colorbar\": {\"outlinewidth\": 0, \"ticks\": \"\"}, \"colorscale\": [[0.0, \"#0d0887\"], [0.1111111111111111, \"#46039f\"], [0.2222222222222222, \"#7201a8\"], [0.3333333333333333, \"#9c179e\"], [0.4444444444444444, \"#bd3786\"], [0.5555555555555556, \"#d8576b\"], [0.6666666666666666, \"#ed7953\"], [0.7777777777777778, \"#fb9f3a\"], [0.8888888888888888, \"#fdca26\"], [1.0, \"#f0f921\"]], \"type\": \"contour\"}], \"contourcarpet\": [{\"colorbar\": {\"outlinewidth\": 0, \"ticks\": \"\"}, \"type\": \"contourcarpet\"}], \"heatmap\": [{\"colorbar\": {\"outlinewidth\": 0, \"ticks\": \"\"}, \"colorscale\": [[0.0, \"#0d0887\"], [0.1111111111111111, \"#46039f\"], [0.2222222222222222, \"#7201a8\"], [0.3333333333333333, \"#9c179e\"], [0.4444444444444444, \"#bd3786\"], [0.5555555555555556, \"#d8576b\"], [0.6666666666666666, \"#ed7953\"], [0.7777777777777778, \"#fb9f3a\"], [0.8888888888888888, \"#fdca26\"], [1.0, \"#f0f921\"]], \"type\": \"heatmap\"}], \"heatmapgl\": [{\"colorbar\": {\"outlinewidth\": 0, \"ticks\": \"\"}, \"colorscale\": [[0.0, \"#0d0887\"], [0.1111111111111111, \"#46039f\"], [0.2222222222222222, \"#7201a8\"], [0.3333333333333333, \"#9c179e\"], [0.4444444444444444, \"#bd3786\"], [0.5555555555555556, \"#d8576b\"], [0.6666666666666666, \"#ed7953\"], [0.7777777777777778, \"#fb9f3a\"], [0.8888888888888888, \"#fdca26\"], [1.0, \"#f0f921\"]], \"type\": \"heatmapgl\"}], \"histogram\": [{\"marker\": {\"colorbar\": {\"outlinewidth\": 0, \"ticks\": \"\"}}, \"type\": \"histogram\"}], \"histogram2d\": [{\"colorbar\": {\"outlinewidth\": 0, \"ticks\": \"\"}, \"colorscale\": [[0.0, \"#0d0887\"], [0.1111111111111111, \"#46039f\"], [0.2222222222222222, \"#7201a8\"], [0.3333333333333333, \"#9c179e\"], [0.4444444444444444, \"#bd3786\"], [0.5555555555555556, \"#d8576b\"], [0.6666666666666666, \"#ed7953\"], [0.7777777777777778, \"#fb9f3a\"], [0.8888888888888888, \"#fdca26\"], [1.0, \"#f0f921\"]], \"type\": \"histogram2d\"}], \"histogram2dcontour\": [{\"colorbar\": {\"outlinewidth\": 0, \"ticks\": \"\"}, \"colorscale\": [[0.0, \"#0d0887\"], [0.1111111111111111, \"#46039f\"], [0.2222222222222222, \"#7201a8\"], [0.3333333333333333, \"#9c179e\"], [0.4444444444444444, \"#bd3786\"], [0.5555555555555556, \"#d8576b\"], [0.6666666666666666, \"#ed7953\"], [0.7777777777777778, \"#fb9f3a\"], [0.8888888888888888, \"#fdca26\"], [1.0, \"#f0f921\"]], \"type\": \"histogram2dcontour\"}], \"mesh3d\": [{\"colorbar\": {\"outlinewidth\": 0, \"ticks\": \"\"}, \"type\": \"mesh3d\"}], \"parcoords\": [{\"line\": {\"colorbar\": {\"outlinewidth\": 0, \"ticks\": \"\"}}, \"type\": \"parcoords\"}], \"scatter\": [{\"marker\": {\"colorbar\": {\"outlinewidth\": 0, \"ticks\": \"\"}}, \"type\": \"scatter\"}], \"scatter3d\": [{\"line\": {\"colorbar\": {\"outlinewidth\": 0, \"ticks\": \"\"}}, \"marker\": {\"colorbar\": {\"outlinewidth\": 0, \"ticks\": \"\"}}, \"type\": \"scatter3d\"}], \"scattercarpet\": [{\"marker\": {\"colorbar\": {\"outlinewidth\": 0, \"ticks\": \"\"}}, \"type\": \"scattercarpet\"}], \"scattergeo\": [{\"marker\": {\"colorbar\": {\"outlinewidth\": 0, \"ticks\": \"\"}}, \"type\": \"scattergeo\"}], \"scattergl\": [{\"marker\": {\"colorbar\": {\"outlinewidth\": 0, \"ticks\": \"\"}}, \"type\": \"scattergl\"}], \"scattermapbox\": [{\"marker\": {\"colorbar\": {\"outlinewidth\": 0, \"ticks\": \"\"}}, \"type\": \"scattermapbox\"}], \"scatterpolar\": [{\"marker\": {\"colorbar\": {\"outlinewidth\": 0, \"ticks\": \"\"}}, \"type\": \"scatterpolar\"}], \"scatterpolargl\": [{\"marker\": {\"colorbar\": {\"outlinewidth\": 0, \"ticks\": \"\"}}, \"type\": \"scatterpolargl\"}], \"scatterternary\": [{\"marker\": {\"colorbar\": {\"outlinewidth\": 0, \"ticks\": \"\"}}, \"type\": \"scatterternary\"}], \"surface\": [{\"colorbar\": {\"outlinewidth\": 0, \"ticks\": \"\"}, \"colorscale\": [[0.0, \"#0d0887\"], [0.1111111111111111, \"#46039f\"], [0.2222222222222222, \"#7201a8\"], [0.3333333333333333, \"#9c179e\"], [0.4444444444444444, \"#bd3786\"], [0.5555555555555556, \"#d8576b\"], [0.6666666666666666, \"#ed7953\"], [0.7777777777777778, \"#fb9f3a\"], [0.8888888888888888, \"#fdca26\"], [1.0, \"#f0f921\"]], \"type\": \"surface\"}], \"table\": [{\"cells\": {\"fill\": {\"color\": \"#EBF0F8\"}, \"line\": {\"color\": \"white\"}}, \"header\": {\"fill\": {\"color\": \"#C8D4E3\"}, \"line\": {\"color\": \"white\"}}, \"type\": \"table\"}]}, \"layout\": {\"annotationdefaults\": {\"arrowcolor\": \"#2a3f5f\", \"arrowhead\": 0, \"arrowwidth\": 1}, \"colorscale\": {\"diverging\": [[0, \"#8e0152\"], [0.1, \"#c51b7d\"], [0.2, \"#de77ae\"], [0.3, \"#f1b6da\"], [0.4, \"#fde0ef\"], [0.5, \"#f7f7f7\"], [0.6, \"#e6f5d0\"], [0.7, \"#b8e186\"], [0.8, \"#7fbc41\"], [0.9, \"#4d9221\"], [1, \"#276419\"]], \"sequential\": [[0.0, \"#0d0887\"], [0.1111111111111111, \"#46039f\"], [0.2222222222222222, \"#7201a8\"], [0.3333333333333333, \"#9c179e\"], [0.4444444444444444, \"#bd3786\"], [0.5555555555555556, \"#d8576b\"], [0.6666666666666666, \"#ed7953\"], [0.7777777777777778, \"#fb9f3a\"], [0.8888888888888888, \"#fdca26\"], [1.0, \"#f0f921\"]], \"sequentialminus\": [[0.0, \"#0d0887\"], [0.1111111111111111, \"#46039f\"], [0.2222222222222222, \"#7201a8\"], [0.3333333333333333, \"#9c179e\"], [0.4444444444444444, \"#bd3786\"], [0.5555555555555556, \"#d8576b\"], [0.6666666666666666, \"#ed7953\"], [0.7777777777777778, \"#fb9f3a\"], [0.8888888888888888, \"#fdca26\"], [1.0, \"#f0f921\"]]}, \"colorway\": [\"#636efa\", \"#EF553B\", \"#00cc96\", \"#ab63fa\", \"#FFA15A\", \"#19d3f3\", \"#FF6692\", \"#B6E880\", \"#FF97FF\", \"#FECB52\"], \"font\": {\"color\": \"#2a3f5f\"}, \"geo\": {\"bgcolor\": \"white\", \"lakecolor\": \"white\", \"landcolor\": \"white\", \"showlakes\": true, \"showland\": true, \"subunitcolor\": \"#C8D4E3\"}, \"hoverlabel\": {\"align\": \"left\"}, \"hovermode\": \"closest\", \"mapbox\": {\"style\": \"light\"}, \"paper_bgcolor\": \"white\", \"plot_bgcolor\": \"white\", \"polar\": {\"angularaxis\": {\"gridcolor\": \"#EBF0F8\", \"linecolor\": \"#EBF0F8\", \"ticks\": \"\"}, \"bgcolor\": \"white\", \"radialaxis\": {\"gridcolor\": \"#EBF0F8\", \"linecolor\": \"#EBF0F8\", \"ticks\": \"\"}}, \"scene\": {\"xaxis\": {\"backgroundcolor\": \"white\", \"gridcolor\": \"#DFE8F3\", \"gridwidth\": 2, \"linecolor\": \"#EBF0F8\", \"showbackground\": true, \"ticks\": \"\", \"zerolinecolor\": \"#EBF0F8\"}, \"yaxis\": {\"backgroundcolor\": \"white\", \"gridcolor\": \"#DFE8F3\", \"gridwidth\": 2, \"linecolor\": \"#EBF0F8\", \"showbackground\": true, \"ticks\": \"\", \"zerolinecolor\": \"#EBF0F8\"}, \"zaxis\": {\"backgroundcolor\": \"white\", \"gridcolor\": \"#DFE8F3\", \"gridwidth\": 2, \"linecolor\": \"#EBF0F8\", \"showbackground\": true, \"ticks\": \"\", \"zerolinecolor\": \"#EBF0F8\"}}, \"shapedefaults\": {\"line\": {\"color\": \"#2a3f5f\"}}, \"ternary\": {\"aaxis\": {\"gridcolor\": \"#DFE8F3\", \"linecolor\": \"#A2B1C6\", \"ticks\": \"\"}, \"baxis\": {\"gridcolor\": \"#DFE8F3\", \"linecolor\": \"#A2B1C6\", \"ticks\": \"\"}, \"bgcolor\": \"white\", \"caxis\": {\"gridcolor\": \"#DFE8F3\", \"linecolor\": \"#A2B1C6\", \"ticks\": \"\"}}, \"title\": {\"x\": 0.05}, \"xaxis\": {\"automargin\": true, \"gridcolor\": \"#EBF0F8\", \"linecolor\": \"#EBF0F8\", \"ticks\": \"\", \"zerolinecolor\": \"#EBF0F8\", \"zerolinewidth\": 2}, \"yaxis\": {\"automargin\": true, \"gridcolor\": \"#EBF0F8\", \"linecolor\": \"#EBF0F8\", \"ticks\": \"\", \"zerolinecolor\": \"#EBF0F8\", \"zerolinewidth\": 2}}}, \"title\": {\"text\": \"Per Module Timing\"}, \"xaxis\": {\"dtick\": 0.1, \"title\": {\"text\": \"Modules\"}}, \"yaxis\": {\"range\": [0, 140], \"rangemode\": \"tozero\", \"title\": {\"text\": \"Time\"}}},\n",
       "                        {\"responsive\": true}\n",
       "                    ).then(function(){\n",
       "                            \n",
       "var gd = document.getElementById('4d1b3733-47f5-472a-92b8-8b035b238e49');\n",
       "var x = new MutationObserver(function (mutations, observer) {{\n",
       "        var display = window.getComputedStyle(gd).display;\n",
       "        if (!display || display === 'none') {{\n",
       "            console.log([gd, 'removed!']);\n",
       "            Plotly.purge(gd);\n",
       "            observer.disconnect();\n",
       "        }}\n",
       "}});\n",
       "\n",
       "// Listen for the removal of the full notebook cells\n",
       "var notebookContainer = gd.closest('#notebook-container');\n",
       "if (notebookContainer) {{\n",
       "    x.observe(notebookContainer, {childList: true});\n",
       "}}\n",
       "\n",
       "// Listen for the clearing of the current output cell\n",
       "var outputEl = gd.closest('.output');\n",
       "if (outputEl) {{\n",
       "    x.observe(outputEl, {childList: true});\n",
       "}}\n",
       "\n",
       "                        })\n",
       "                };\n",
       "                });\n",
       "            </script>\n",
       "        </div>"
      ]
     },
     "metadata": {},
     "output_type": "display_data"
    }
   ],
   "source": [
    "\n",
    "\n",
    "colors = ['rgba(93, 164, 214, 0.5)', 'rgba(255, 144, 14, 0.5)', 'rgba(44, 160, 101, 0.5)',\n",
    "          'rgba(255, 65, 54, 0.5)', 'rgba(207, 114, 255, 0.5)', 'rgba(127, 96, 0, 0.5)']\n",
    "\n",
    "fig = go.Figure()\n",
    "\n",
    "for xd, yd in zip(x_data, y_data):\n",
    "    fig.add_trace(go.Box(\n",
    "        y=yd,\n",
    "        name=xd,\n",
    "        boxmean=True, # represent mean and standard deviation\n",
    "        jitter=0.5,\n",
    "        pointpos=0,\n",
    "        whiskerwidth=0.8,\n",
    "        #fillcolor=cls,\n",
    "        marker_size=3,\n",
    "        line_width=1,\n",
    "        showlegend=False,\n",
    "       boxpoints='all' # only suspected outliers)\n",
    "    ))\n",
    "    \n",
    "    fig.update_layout(\n",
    "    title='Points Scored by the Top 9 Scoring NBA Players in 2012',\n",
    "    yaxis=dict(\n",
    "        autorange=True,\n",
    "        showgrid=True,\n",
    "        zeroline=True,\n",
    "        dtick=5,\n",
    "        gridcolor='rgb(255, 255, 255)',\n",
    "        gridwidth=1,\n",
    "        zerolinecolor='rgb(255, 255, 255)',\n",
    "        zerolinewidth=2,\n",
    "    ),\n",
    "    margin=dict(\n",
    "        l=40,\n",
    "        r=30,\n",
    "        b=80,\n",
    "        t=100,\n",
    "    ),\n",
    "    paper_bgcolor='rgb(243, 243, 243)',\n",
    "    plot_bgcolor='rgb(243, 243, 243)',\n",
    "    showlegend=False\n",
    ")\n",
    "    \n",
    "fig.update_layout(\n",
    "    title=go.layout.Title(\n",
    "        text=\"Per Module Timing\"\n",
    "    ),\n",
    "    xaxis=go.layout.XAxis(\n",
    "        dtick=0.1,\n",
    "        title=go.layout.xaxis.Title(\n",
    "            text=\"Modules\"\n",
    "        )\n",
    "    ),\n",
    "    yaxis=go.layout.YAxis(\n",
    "        title=go.layout.yaxis.Title(\n",
    "            text=\"Time\"\n",
    "            ),\n",
    "        rangemode='tozero'\n",
    "        ),\n",
    "    template='plotly_white'\n",
    ")\n",
    "fig.update_yaxes(range=[0, 140])\n",
    "fig.show()"
   ]
  },
  {
   "cell_type": "code",
   "execution_count": 37,
   "metadata": {},
   "outputs": [],
   "source": [
    "fig.write_image(\"vio_timing.eps\")"
   ]
  },
  {
   "cell_type": "code",
   "execution_count": null,
   "metadata": {},
   "outputs": [],
   "source": []
  }
 ],
 "metadata": {
  "kernelspec": {
   "display_name": "Python 2",
   "language": "python",
   "name": "python2"
  },
  "language_info": {
   "codemirror_mode": {
    "name": "ipython",
    "version": 2
   },
   "file_extension": ".py",
   "mimetype": "text/x-python",
   "name": "python",
   "nbconvert_exporter": "python",
   "pygments_lexer": "ipython2",
   "version": "2.7.15"
  }
 },
 "nbformat": 4,
 "nbformat_minor": 2
}
